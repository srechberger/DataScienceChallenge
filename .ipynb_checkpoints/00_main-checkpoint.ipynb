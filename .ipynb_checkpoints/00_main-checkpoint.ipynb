{
 "cells": [
  {
   "cell_type": "markdown",
   "metadata": {},
   "source": [
    "# **<span style=\"color:white\"><span style=\"background:#0B0B61\"> # # # # # ntuity | Data Science Challenge # # # # # </span></span>**"
   ]
  },
  {
   "cell_type": "markdown",
   "metadata": {},
   "source": [
    "Es handelt sich um die Energiedaten eines Kunden in Österreich, aufgezeichnet während zwei aufeinander folgenden Wochen im Oktober 2020. Der Kunde besitzt eine Photovoltaik (PV) Anlage mit 6.5 kW peak. Folgende Datenattribute wurden aufgezeichnet:\n",
    "\n",
    "|Variable|Type|Unit|Device|\n",
    "|--------|--------|--------|--------|\n",
    "|ENERGY_CHARGED|float64|Wh|Battery|\n",
    "|ENERGY_DISCHARGED|float64|Wh|Battery| \n",
    "|ENERGY_IMPORTED|float64|Wh|Grid|\n",
    "|ENERGY_EXPORTED|float64|Wh|Grid|\n",
    "|ENERGY_PRODUCED|float64|Wh|Photovoltaik| \n",
    "|ENERGY_CONSUMED_CALC|float64|Wh|| \n",
    "|POWER_STORAGE|float64|W|Battery|\n",
    "|POWER_GRID|float64|W|Grid|\n",
    "|POWER_PRODUCTION|float64|W|Photovoltaik| \n",
    "|POWER_CONSUMPTION|float64|W|| \n",
    "\n",
    "**Aufgaben:**\n",
    "* Beschreibung des Datensatzes\n",
    "* Visualisierung der Zeitreihen\n",
    "* Erläuterung der Vorgehensweise zur Entwicklung eines simplen Vorhersagemodell (PV Produktion für die nächsten beiden Tage) sowie entsprechende Erwartungshaltung an das Modell\n",
    "\n",
    "**Bevorzugte Infrastrukur und Tools:**\n",
    "* Jupyter Notebook\n",
    "* Python\n",
    "* GitHub Repository \n",
    "\n",
    "Zur Bewältigung der Aufgabenstellung wird als Vorgehensmodell CRISP-DM (CRoss Industry Standard Process for Data Mining) herangezogen. Aufgrund der Aufgabenstellung wird der Prozess verkürzt und es werden lediglich die folgende Prozessschritte ausgeführt:\n",
    "1. Business and Data Understanding\n",
    "2. Data Preparation\n",
    "3. Modeling\n"
   ]
  },
  {
   "cell_type": "markdown",
   "metadata": {},
   "source": [
    "# <span style=\"color:#0B0B61\">1. Business and Data Understanding</span>"
   ]
  },
  {
   "cell_type": "markdown",
   "metadata": {},
   "source": [
    "Grundsätzlich stehen zur Befriedigung des Energiebedarfs im Unternehmen 3 Quellen zur Verfügung: \n",
    "* Photovoltaik-Anlage (PV)\n",
    "* Batteriesystem (Battery)\n",
    "* Netz (Netz)\n",
    "\n",
    "Auf der Gegenseite stehen sämtliche Geräte (Devices), die Energie beziehen.\n",
    "\n",
    "**Primäre Zielsetzung:** Optimierung des Energieverbrauches der PV-Anlage erzeugten Energiemenge\n",
    "\n",
    "Ziel ist es möglichst wenig Energie aus dem Netz beziehen zu müssen. Hierbei ist es jedoch auch wichtig etwaige differierenden Stromtarife zu berücksichtigen, sprich potenziell herrschen je nach Tageszeit unterschiedliche Preise vor. Darüber hinaus ist zu berücksichtigen, dass möglicherweise bei Überschreitung von vereinbarten Energiekonsumspitzen die Kosten pro kWh signifikant ansteigen. Folglich gilt es die selbsterzeugte Energie (PV-Strom) zielgerichtet einzusetzen.\n",
    "\n",
    "Die Verteilung des Strombezugs wird über den Controller (Steuerelement) optimiert. Die Energie aus der PV-Anlage kann entweder direkt an die Verbraucher fließen oder zur Speicherung (Battery) verwendet werden. Falls der Speicher voll ist und die Verbraucher zur Gänze durch die PV-Anlage versorgt werden können, so wird der Energieüberschuss in das Netz eingespeißt. Bei dem aus der PV-Anlage erzeugten Strom handelt es sich um Gleichstrom, der mittels Wechselrichter (Inverter) in Wechselstrom umgewandelt wird.\n",
    "\n",
    "Im Allgemeinen können die Verbraucher die benötigte Energie aus dem Netz (Grid), PV-Anlage (PV) und/oder dem Speicher (Battery) beziehen. In der unten angeführten Grafik werden die gegebenen Variablen für das Leistungsvermögen (POWER_\\* bzw. Watt) und die fließende Engergiemenge (ENERGY_\\* bzw. Wattstunden) illustriert."
   ]
  },
  {
   "cell_type": "markdown",
   "metadata": {},
   "source": [
    "<img src=\"images/Business_Understanding.png\">"
   ]
  },
  {
   "cell_type": "markdown",
   "metadata": {},
   "source": [
    "Wie bereits kurz erläutert ist bei den Variablen zwischen Leistung (Leistungsvermögen, Power) und Energie (Energiemenge, Energy) zu differenzieren. Die Leistung wird in Form von Watt gemessen. Watt (W) ist eine Einheit für die Leistung, und Leistung ist die Geschwindigkeit, mit der Energie erzeugt oder verbraucht wird. Eine Wattstunde (Wh) ist eine Einheit der Energie, eine Methode zur Messung der Menge der geleisteten bzw. erzeugten Arbeit. Mit Wattstunden (Wh) wird die Menge an Energie für einen bestimmten Zeitraum gemessen und mit Watt die Leistungsabgabe (Leistungsgeschwindigkeit) zu einem bestimmten Zeitpunkt dargestellt.\n",
    "\n",
    "Das vorliegende Datenset beinhaltet insgesamt 11 Attribute die zur Verfügung stehen. Die Variable \"Time\" stellt hierbei den Messungszeitpunkt dar. Die anderen 10 Variablen stellen die aufgezeichneten Messwerte für Leistung und Energiemenge je Komponente dar. In der folgenden Tabelle werden Annahmen getroffen welche Messwerte im Unternehmen aufgezeichnet wurden:"
   ]
  },
  {
   "cell_type": "markdown",
   "metadata": {},
   "source": [
    "|Attribut|Beschreibung|\n",
    "|--------|--------|\n",
    "|**ENERGY_CHARGED**|Energiemenge in Wattstunden (Wh), welche in einem Zeitraum (15 min) in den Speicher (Battery) eingespeißt wurde|\n",
    "|**ENERGY_DISCHARGED**|Energiemenge in Wattstunden (Wh), welche in einem Zeitraum (15 min) vom Speicher (Battery) ausgeliefert wurde|\n",
    "|**ENERGY_IMPORTED**|Energiemenge in Wattstunden (Wh), welche in einem Zeitraum (15 min) vom Netz (Grid) bezogen wurde|\n",
    "|**ENERGY_EXPORTED**|Energiemenge in Wattstunden (Wh), welche in einem Zeitraum (15 min) in das Netz (Grid) eingespeißt wurde|\n",
    "|**ENERGY_PRODUCED**|Energiemenge in Wattstunden (Wh), welche in einem Zeitraum (15 min) von der PV-Anlage produziert wurde|\n",
    "|**ENERGY_CONSUMED_CALC**|Gesamte Energiemenge in Wattstunden (Wh), welche in einem Zeitraum (15 min) von den Geräten (Devices) konsumiert wurde|\n",
    "|**POWER_STORAGE**|Leistungsvermögen in Watt (W), welches zu einem bestimmten Zeitpunkt im Speicher vorhanden war|\n",
    "|**POWER_GRID**|Leistungsvermögen in Watt (W), welches zu einem bestimmten Zeitpunkt vom Netz zur Verfügung stand|\n",
    "|**POWER_PRODUCTION**|Leistungsvermögen in Watt (W), welches zu einem bestimmten Zeitpunkt von der PV-Anlage produziert wurde|\n",
    "|**POWER_CONSUMPTION**|Leistung in Watt (W), welche zu einem bestimmten Zeitpunkt von den Geräten abgerufen wurde|"
   ]
  },
  {
   "cell_type": "markdown",
   "metadata": {},
   "source": [
    "# <span style=\"color:#0B0B61\">2. Data Preparation</span>"
   ]
  },
  {
   "cell_type": "markdown",
   "metadata": {},
   "source": [
    "... in diesem Abschnitt werden folgende.. dlslsls..  durchgeführt"
   ]
  },
  {
   "cell_type": "markdown",
   "metadata": {},
   "source": [
    "## <span style=\"color:#0404B4\">2.1. Data Cleaning</span>"
   ]
  },
  {
   "cell_type": "markdown",
   "metadata": {},
   "source": [
    "Die Rohdaten werden mittels pandas-Bibliothek in ein Dataframe geladen:"
   ]
  },
  {
   "cell_type": "code",
   "execution_count": 1,
   "metadata": {},
   "outputs": [],
   "source": [
    "import pandas as pd\n",
    "\n",
    "# Fetch data\n",
    "data_file_path = \"data/ntuity_datascience_challenge.csv\"\n",
    "data = pd.read_csv(data_file_path)\n"
   ]
  },
  {
   "cell_type": "markdown",
   "metadata": {},
   "source": [
    "### 2.1.1. Überprüfung der Datentypen und Durchführung notwendiger Type-Casts"
   ]
  },
  {
   "cell_type": "code",
   "execution_count": 2,
   "metadata": {},
   "outputs": [
    {
     "name": "stdout",
     "output_type": "stream",
     "text": [
      "Time                     object\n",
      "ENERGY_CHARGED          float64\n",
      "POWER_PRODUCTION        float64\n",
      "POWER_STORAGE           float64\n",
      "POWER_GRID              float64\n",
      "ENERGY_PRODUCED         float64\n",
      "POWER_CONSUMPTION       float64\n",
      "ENERGY_CONSUMED_CALC    float64\n",
      "ENERGY_EXPORTED         float64\n",
      "ENERGY_IMPORTED         float64\n",
      "ENERGY_DISCHARGED       float64\n",
      "dtype: object\n"
     ]
    }
   ],
   "source": [
    "# Inspect datatypes of all cols\n",
    "print(data.dtypes)\n",
    "\n",
    "# Transform time column from object to datetime\n",
    "data['Time'] = pd.to_datetime(data['Time'])\n"
   ]
  },
  {
   "cell_type": "markdown",
   "metadata": {},
   "source": [
    "### 2.1.2. Überprüfung auf fehlende Werte (null)"
   ]
  },
  {
   "cell_type": "code",
   "execution_count": 3,
   "metadata": {},
   "outputs": [
    {
     "data": {
      "text/plain": [
       "<bound method NDFrame.head of                     Time  ENERGY_CHARGED  POWER_PRODUCTION  POWER_STORAGE  \\\n",
       "0    2020-10-12 00:00:00             0.0               0.0            0.0   \n",
       "1    2020-10-12 00:15:00             0.0               0.0            0.0   \n",
       "2    2020-10-12 00:30:00             0.0               0.0            0.0   \n",
       "3    2020-10-12 00:45:00             0.0               0.0            0.0   \n",
       "4    2020-10-12 01:00:00             0.0               0.0            0.0   \n",
       "...                  ...             ...               ...            ...   \n",
       "1340 2020-10-25 23:00:00             0.0               0.0            0.0   \n",
       "1341 2020-10-25 23:15:00             0.0               0.0            0.0   \n",
       "1342 2020-10-25 23:30:00             0.0               0.0            0.0   \n",
       "1343 2020-10-25 23:45:00             0.0               0.0            0.0   \n",
       "1344 2020-10-26 00:00:00             0.0               0.0            0.0   \n",
       "\n",
       "        POWER_GRID  ENERGY_PRODUCED  POWER_CONSUMPTION  ENERGY_CONSUMED_CALC  \\\n",
       "0     11886.911901       24197960.0       11886.911906            92863954.0   \n",
       "1     11823.676030       24197960.0       11823.675997            92866874.0   \n",
       "2     11072.283899       24197960.0       11072.284124            92869634.0   \n",
       "3     10647.192637       24197960.0       10647.192722            92872234.0   \n",
       "4     11956.350025       24197960.0       11956.350176            92875282.0   \n",
       "...            ...              ...                ...                   ...   \n",
       "1340   5386.782637       24398330.0        5386.782754            95790318.0   \n",
       "1341  15659.507213       24398330.0       15659.507475            95794182.0   \n",
       "1342  11777.455938       24398330.0       11777.456084            95797210.0   \n",
       "1343   3257.918763       24398330.0        3257.918742            95798222.0   \n",
       "1344   3249.274033       24398330.0        3249.274013            95798958.0   \n",
       "\n",
       "      ENERGY_EXPORTED  ENERGY_IMPORTED  ENERGY_DISCHARGED  \n",
       "0        2.850206e+09       71516200.0                0.0  \n",
       "1        2.850206e+09       71519120.0                0.0  \n",
       "2        2.850206e+09       71521880.0                0.0  \n",
       "3        2.850206e+09       71524480.0                0.0  \n",
       "4        2.850206e+09       71527528.0                0.0  \n",
       "...               ...              ...                ...  \n",
       "1340     2.850892e+09       74242880.0                0.0  \n",
       "1341     2.850892e+09       74246744.0                0.0  \n",
       "1342     2.850892e+09       74249772.0                0.0  \n",
       "1343     2.850892e+09       74250784.0                0.0  \n",
       "1344     2.850892e+09       74251520.0                0.0  \n",
       "\n",
       "[1345 rows x 11 columns]>"
      ]
     },
     "execution_count": 3,
     "metadata": {},
     "output_type": "execute_result"
    }
   ],
   "source": [
    "# Set display options\n",
    "pd.set_option('display.max_columns', 20)\n",
    "\n",
    "# Check missing values per column\n",
    "data.isnull().sum()\n",
    "\n",
    "data.head"
   ]
  },
  {
   "cell_type": "markdown",
   "metadata": {},
   "source": [
    "### 2.1.3. Validierung der Wertebereiche sämtlicher Attribute (inkl. outliers):"
   ]
  },
  {
   "cell_type": "code",
   "execution_count": 4,
   "metadata": {},
   "outputs": [
    {
     "data": {
      "text/html": [
       "<div>\n",
       "<style scoped>\n",
       "    .dataframe tbody tr th:only-of-type {\n",
       "        vertical-align: middle;\n",
       "    }\n",
       "\n",
       "    .dataframe tbody tr th {\n",
       "        vertical-align: top;\n",
       "    }\n",
       "\n",
       "    .dataframe thead th {\n",
       "        text-align: right;\n",
       "    }\n",
       "</style>\n",
       "<table border=\"1\" class=\"dataframe\">\n",
       "  <thead>\n",
       "    <tr style=\"text-align: right;\">\n",
       "      <th></th>\n",
       "      <th>ENERGY_CHARGED</th>\n",
       "      <th>POWER_PRODUCTION</th>\n",
       "      <th>POWER_STORAGE</th>\n",
       "      <th>POWER_GRID</th>\n",
       "      <th>ENERGY_PRODUCED</th>\n",
       "      <th>POWER_CONSUMPTION</th>\n",
       "      <th>ENERGY_CONSUMED_CALC</th>\n",
       "      <th>ENERGY_EXPORTED</th>\n",
       "      <th>ENERGY_IMPORTED</th>\n",
       "      <th>ENERGY_DISCHARGED</th>\n",
       "    </tr>\n",
       "  </thead>\n",
       "  <tbody>\n",
       "    <tr>\n",
       "      <th>count</th>\n",
       "      <td>1345</td>\n",
       "      <td>1345</td>\n",
       "      <td>1345</td>\n",
       "      <td>1345</td>\n",
       "      <td>1345</td>\n",
       "      <td>1345</td>\n",
       "      <td>1345</td>\n",
       "      <td>1345</td>\n",
       "      <td>1345</td>\n",
       "      <td>1345</td>\n",
       "    </tr>\n",
       "    <tr>\n",
       "      <th>mean</th>\n",
       "      <td>0</td>\n",
       "      <td>597.432</td>\n",
       "      <td>-11.741</td>\n",
       "      <td>8143.1</td>\n",
       "      <td>2.42836e+07</td>\n",
       "      <td>8728.27</td>\n",
       "      <td>9.4419e+07</td>\n",
       "      <td>2.85047e+09</td>\n",
       "      <td>7.29865e+07</td>\n",
       "      <td>0</td>\n",
       "    </tr>\n",
       "    <tr>\n",
       "      <th>std</th>\n",
       "      <td>0</td>\n",
       "      <td>1212.81</td>\n",
       "      <td>618.692</td>\n",
       "      <td>4996.9</td>\n",
       "      <td>69787.2</td>\n",
       "      <td>4814.79</td>\n",
       "      <td>854084</td>\n",
       "      <td>282436</td>\n",
       "      <td>789490</td>\n",
       "      <td>0</td>\n",
       "    </tr>\n",
       "    <tr>\n",
       "      <th>min</th>\n",
       "      <td>0</td>\n",
       "      <td>0</td>\n",
       "      <td>-4727.33</td>\n",
       "      <td>-20.06</td>\n",
       "      <td>2.4198e+07</td>\n",
       "      <td>1885.62</td>\n",
       "      <td>9.2864e+07</td>\n",
       "      <td>2.85021e+09</td>\n",
       "      <td>7.15162e+07</td>\n",
       "      <td>0</td>\n",
       "    </tr>\n",
       "    <tr>\n",
       "      <th>25%</th>\n",
       "      <td>0</td>\n",
       "      <td>0</td>\n",
       "      <td>-3.47133</td>\n",
       "      <td>2727.15</td>\n",
       "      <td>2.42278e+07</td>\n",
       "      <td>2850.07</td>\n",
       "      <td>9.36865e+07</td>\n",
       "      <td>2.85021e+09</td>\n",
       "      <td>7.23089e+07</td>\n",
       "      <td>0</td>\n",
       "    </tr>\n",
       "    <tr>\n",
       "      <th>50%</th>\n",
       "      <td>0</td>\n",
       "      <td>0</td>\n",
       "      <td>0</td>\n",
       "      <td>9246.98</td>\n",
       "      <td>2.42640e+07</td>\n",
       "      <td>10203.4</td>\n",
       "      <td>9.44665e+07</td>\n",
       "      <td>2.85035e+09</td>\n",
       "      <td>7.30528e+07</td>\n",
       "      <td>0</td>\n",
       "    </tr>\n",
       "    <tr>\n",
       "      <th>75%</th>\n",
       "      <td>0</td>\n",
       "      <td>665.534</td>\n",
       "      <td>0</td>\n",
       "      <td>12385.1</td>\n",
       "      <td>2.43568e+07</td>\n",
       "      <td>13074.9</td>\n",
       "      <td>9.52008e+07</td>\n",
       "      <td>2.8508e+09</td>\n",
       "      <td>7.36954e+07</td>\n",
       "      <td>0</td>\n",
       "    </tr>\n",
       "    <tr>\n",
       "      <th>max</th>\n",
       "      <td>0</td>\n",
       "      <td>6592.13</td>\n",
       "      <td>4777.67</td>\n",
       "      <td>18399.6</td>\n",
       "      <td>2.5e+07</td>\n",
       "      <td>18399.6</td>\n",
       "      <td>9.5799e+07</td>\n",
       "      <td>2.85089e+09</td>\n",
       "      <td>7.42515e+07</td>\n",
       "      <td>0</td>\n",
       "    </tr>\n",
       "  </tbody>\n",
       "</table>\n",
       "</div>"
      ],
      "text/plain": [
       "      ENERGY_CHARGED POWER_PRODUCTION POWER_STORAGE POWER_GRID  \\\n",
       "count           1345             1345          1345       1345   \n",
       "mean               0          597.432       -11.741     8143.1   \n",
       "std                0          1212.81       618.692     4996.9   \n",
       "min                0                0      -4727.33     -20.06   \n",
       "25%                0                0      -3.47133    2727.15   \n",
       "50%                0                0             0    9246.98   \n",
       "75%                0          665.534             0    12385.1   \n",
       "max                0          6592.13       4777.67    18399.6   \n",
       "\n",
       "      ENERGY_PRODUCED POWER_CONSUMPTION ENERGY_CONSUMED_CALC ENERGY_EXPORTED  \\\n",
       "count            1345              1345                 1345            1345   \n",
       "mean      2.42836e+07           8728.27           9.4419e+07     2.85047e+09   \n",
       "std           69787.2           4814.79               854084          282436   \n",
       "min        2.4198e+07           1885.62           9.2864e+07     2.85021e+09   \n",
       "25%       2.42278e+07           2850.07          9.36865e+07     2.85021e+09   \n",
       "50%       2.42640e+07           10203.4          9.44665e+07     2.85035e+09   \n",
       "75%       2.43568e+07           13074.9          9.52008e+07      2.8508e+09   \n",
       "max           2.5e+07           18399.6           9.5799e+07     2.85089e+09   \n",
       "\n",
       "      ENERGY_IMPORTED ENERGY_DISCHARGED  \n",
       "count            1345              1345  \n",
       "mean      7.29865e+07                 0  \n",
       "std            789490                 0  \n",
       "min       7.15162e+07                 0  \n",
       "25%       7.23089e+07                 0  \n",
       "50%       7.30528e+07                 0  \n",
       "75%       7.36954e+07                 0  \n",
       "max       7.42515e+07                 0  "
      ]
     },
     "execution_count": 4,
     "metadata": {},
     "output_type": "execute_result"
    }
   ],
   "source": [
    "# Generate overview for all attributes\n",
    "data.describe().apply(lambda s: s.apply(lambda x: format(x, 'g')))\n"
   ]
  },
  {
   "cell_type": "code",
   "execution_count": 5,
   "metadata": {},
   "outputs": [
    {
     "name": "stdout",
     "output_type": "stream",
     "text": [
      "count        1345.000000\n",
      "mean     24283580.750929\n",
      "std         69787.158781\n",
      "min      24197960.000000\n",
      "25%      24227810.000000\n",
      "50%      24264050.000000\n",
      "75%      24356780.000000\n",
      "max      25000000.000000\n",
      "Name: ENERGY_PRODUCED, dtype: object\n",
      "-------------------\n",
      "count        1345.000000\n",
      "mean     94419041.299628\n",
      "std        854084.211984\n",
      "min      92863954.000000\n",
      "25%      93686496.000000\n",
      "50%      94466538.000000\n",
      "75%      95200766.000000\n",
      "max      95798958.000000\n",
      "Name: ENERGY_CONSUMED_CALC, dtype: object\n",
      "-------------------\n",
      "count          1345.000000\n",
      "mean     2850466014.869888\n",
      "std          282436.022705\n",
      "min      2850206000.000000\n",
      "25%      2850214000.000000\n",
      "50%      2850348000.000000\n",
      "75%      2850804000.000000\n",
      "max      2850892000.000000\n",
      "Name: ENERGY_EXPORTED, dtype: object\n",
      "-------------------\n",
      "count        1345.000000\n",
      "mean     72986498.281041\n",
      "std        789490.407057\n",
      "min      71516200.000000\n",
      "25%      72308900.000000\n",
      "50%      73052836.000000\n",
      "75%      73695360.000000\n",
      "max      74251520.000000\n",
      "Name: ENERGY_IMPORTED, dtype: object\n"
     ]
    }
   ],
   "source": [
    "# Check exponential values in detail\n",
    "print(data['ENERGY_PRODUCED'].describe().apply(lambda x: format(x, 'f')))\n",
    "print(\"-------------------\")\n",
    "print(data['ENERGY_CONSUMED_CALC'].describe().apply(lambda x: format(x, 'f')))\n",
    "print(\"-------------------\")\n",
    "print(data['ENERGY_EXPORTED'].describe().apply(lambda x: format(x, 'f')))\n",
    "print(\"-------------------\")\n",
    "print(data['ENERGY_IMPORTED'].describe().apply(lambda x: format(x, 'f')))"
   ]
  },
  {
   "cell_type": "markdown",
   "metadata": {},
   "source": [
    "**Analyse der Wertebereiche**\n",
    "\n",
    "ENERGY (OK): ENERGY_IMPORTED, ENERGY_EXPORTED, ENERGY_CONSUMED_CALC, ENERGY_PRODUCED\n",
    "\n",
    "ENERGY (NOT OK): ENERGY_CHARGED, ENERGY_DISCHARGED\n",
    "--> POWER_STORAGE verändert sich, jedoch werden keine Werte für den Stromfluss geliefert\n",
    "--> Zähler defekt?\n",
    "\n",
    "POWER (OK): POWER_PRODUCTION, POWER_CONSUMPTION\n",
    "\n",
    "POWER (NOT OK): POWER_STORAGE, POWER_GRID\n",
    "--> negative Werte vorhanden\n",
    "--> ist das möglich?\n"
   ]
  },
  {
   "cell_type": "code",
   "execution_count": null,
   "metadata": {},
   "outputs": [],
   "source": []
  },
  {
   "cell_type": "markdown",
   "metadata": {},
   "source": [
    "## <span style=\"color:#0404B4\">2.2. Feature Engineering</span>"
   ]
  },
  {
   "cell_type": "markdown",
   "metadata": {},
   "source": [
    "## <span style=\"color:#0404B4\">2.3. Exploratory Data Analysis</span>"
   ]
  },
  {
   "cell_type": "markdown",
   "metadata": {},
   "source": [
    "Differenzierung zwischen Wattstunden und Watt (2 Charts aufteilen)"
   ]
  },
  {
   "cell_type": "code",
   "execution_count": 6,
   "metadata": {},
   "outputs": [
    {
     "data": {
      "image/png": "[encoded data removed]",
      "text/plain": [
       "<Figure size 1800x600 with 1 Axes>"
      ]
     },
     "metadata": {
      "needs_background": "light"
     },
     "output_type": "display_data"
    }
   ],
   "source": [
    "import matplotlib.pyplot as plt\n",
    "%matplotlib inline\n",
    "plt.rcParams['figure.figsize'] = [18, 6]\n",
    "plt.rcParams['figure.dpi'] = 100\n",
    "\n",
    "# Get relevant columns\n",
    "data = data.loc[:, ['Time', 'POWER_PRODUCTION']]\n",
    "# Sort by 'Time'\n",
    "data = data.sort_values(by=['Time'])\n",
    "# Group by 'Time' if multiple entries per timestamp exist\n",
    "data = data.groupby('Time').POWER_PRODUCTION.sum()\n",
    "\n",
    "# Plot POWER_PRODUCTION\n",
    "orig = plt.plot(data, color='turquoise', label='PV Production')\n",
    "plt.xlabel(\"Time\")\n",
    "plt.ylabel(\"Watt\")\n",
    "plt.legend(loc='best')\n",
    "plt.show()"
   ]
  }
 ],
 "metadata": {
  "kernelspec": {
   "display_name": "Python 3",
   "language": "python",
   "name": "python3"
  },
  "language_info": {
   "codemirror_mode": {
    "name": "ipython",
    "version": 3
   },
   "file_extension": ".py",
   "mimetype": "text/x-python",
   "name": "python",
   "nbconvert_exporter": "python",
   "pygments_lexer": "ipython3",
   "version": "3.8.5"
  }
 },
 "nbformat": 4,
 "nbformat_minor": 4
}
